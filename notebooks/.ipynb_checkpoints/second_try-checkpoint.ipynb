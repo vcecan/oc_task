{
 "cells": [
  {
   "cell_type": "code",
   "execution_count": 1,
   "id": "a7855590",
   "metadata": {},
   "outputs": [],
   "source": [
    "import pandas as pd\n",
    "import numpy as np\n",
    "import matplotlib.pyplot as plt\n",
    "import matplotlib as mpl\n",
    "import datetime as dt\n",
    "from sklearn.preprocessing import LabelEncoder\n",
    "import seaborn as sns\n",
    "import warnings\n",
    "warnings.filterwarnings(\"ignore\")"
   ]
  },
  {
   "cell_type": "code",
   "execution_count": 2,
   "id": "b4c405a2",
   "metadata": {},
   "outputs": [
    {
     "data": {
      "text/html": [
       "<div>\n",
       "<style scoped>\n",
       "    .dataframe tbody tr th:only-of-type {\n",
       "        vertical-align: middle;\n",
       "    }\n",
       "\n",
       "    .dataframe tbody tr th {\n",
       "        vertical-align: top;\n",
       "    }\n",
       "\n",
       "    .dataframe thead th {\n",
       "        text-align: right;\n",
       "    }\n",
       "</style>\n",
       "<table border=\"1\" class=\"dataframe\">\n",
       "  <thead>\n",
       "    <tr style=\"text-align: right;\">\n",
       "      <th></th>\n",
       "      <th>Client</th>\n",
       "      <th>Unnamed: 1</th>\n",
       "      <th>Unnamed: 2</th>\n",
       "      <th>Contract</th>\n",
       "      <th>Unnamed: 4</th>\n",
       "      <th>Unnamed: 5</th>\n",
       "      <th>Unnamed: 6</th>\n",
       "      <th>Unnamed: 7</th>\n",
       "      <th>Unnamed: 8</th>\n",
       "      <th>Scoring</th>\n",
       "      <th>...</th>\n",
       "      <th>Unnamed: 21</th>\n",
       "      <th>Unnamed: 22</th>\n",
       "      <th>Unnamed: 23</th>\n",
       "      <th>Unnamed: 24</th>\n",
       "      <th>Collection</th>\n",
       "      <th>Unnamed: 26</th>\n",
       "      <th>Unnamed: 27</th>\n",
       "      <th>Unnamed: 28</th>\n",
       "      <th>Unnamed: 29</th>\n",
       "      <th>Computed</th>\n",
       "    </tr>\n",
       "  </thead>\n",
       "  <tbody>\n",
       "    <tr>\n",
       "      <th>0</th>\n",
       "      <td>NaN</td>\n",
       "      <td>NaN</td>\n",
       "      <td>NaN</td>\n",
       "      <td>NaN</td>\n",
       "      <td>NaN</td>\n",
       "      <td>NaN</td>\n",
       "      <td>NaN</td>\n",
       "      <td>NaN</td>\n",
       "      <td>NaN</td>\n",
       "      <td>NaN</td>\n",
       "      <td>...</td>\n",
       "      <td>NaN</td>\n",
       "      <td>NaN</td>\n",
       "      <td>NaN</td>\n",
       "      <td>NaN</td>\n",
       "      <td>NaN</td>\n",
       "      <td>NaN</td>\n",
       "      <td>NaN</td>\n",
       "      <td>NaN</td>\n",
       "      <td>NaN</td>\n",
       "      <td>NaN</td>\n",
       "    </tr>\n",
       "    <tr>\n",
       "      <th>1</th>\n",
       "      <td>CNP</td>\n",
       "      <td>Gender</td>\n",
       "      <td>Age</td>\n",
       "      <td>DataSemnarii</td>\n",
       "      <td>DataInchis</td>\n",
       "      <td>Number</td>\n",
       "      <td>Produs</td>\n",
       "      <td>CreditLimit</td>\n",
       "      <td>State</td>\n",
       "      <td>scoringdate</td>\n",
       "      <td>...</td>\n",
       "      <td>PenguinIgnoringBNR</td>\n",
       "      <td>DolphinIgnoringBNR</td>\n",
       "      <td>ClientCategory</td>\n",
       "      <td>Comission</td>\n",
       "      <td>Withdrawed</td>\n",
       "      <td>DpdDiffDaysMax</td>\n",
       "      <td>DpdTotal</td>\n",
       "      <td>PaidTotal</td>\n",
       "      <td>FutureTotal</td>\n",
       "      <td>IsDerrogationBNR</td>\n",
       "    </tr>\n",
       "    <tr>\n",
       "      <th>2</th>\n",
       "      <td>1900226063350</td>\n",
       "      <td>M</td>\n",
       "      <td>32</td>\n",
       "      <td>2021-10-15 18:37:54</td>\n",
       "      <td>2021-10-16 18:11:03</td>\n",
       "      <td>DK53851057</td>\n",
       "      <td>Penguin</td>\n",
       "      <td>1900</td>\n",
       "      <td>Inchis</td>\n",
       "      <td>2021-10-15 00:31:13</td>\n",
       "      <td>...</td>\n",
       "      <td>0</td>\n",
       "      <td>0</td>\n",
       "      <td>0</td>\n",
       "      <td>0</td>\n",
       "      <td>-1900</td>\n",
       "      <td>-27</td>\n",
       "      <td>0</td>\n",
       "      <td>1907.56</td>\n",
       "      <td>0</td>\n",
       "      <td>NaN</td>\n",
       "    </tr>\n",
       "    <tr>\n",
       "      <th>3</th>\n",
       "      <td>1900226063350</td>\n",
       "      <td>M</td>\n",
       "      <td>32</td>\n",
       "      <td>2021-11-06 03:38:12</td>\n",
       "      <td>2021-12-10 12:29:02</td>\n",
       "      <td>TC42768422</td>\n",
       "      <td>Penguin</td>\n",
       "      <td>700</td>\n",
       "      <td>Inchis</td>\n",
       "      <td>2021-10-15 00:31:13</td>\n",
       "      <td>...</td>\n",
       "      <td>0</td>\n",
       "      <td>0</td>\n",
       "      <td>0</td>\n",
       "      <td>0</td>\n",
       "      <td>-700</td>\n",
       "      <td>-22</td>\n",
       "      <td>0</td>\n",
       "      <td>783.58</td>\n",
       "      <td>0</td>\n",
       "      <td>NaN</td>\n",
       "    </tr>\n",
       "    <tr>\n",
       "      <th>4</th>\n",
       "      <td>1811228048420</td>\n",
       "      <td>M</td>\n",
       "      <td>41</td>\n",
       "      <td>2021-10-15 10:43:41</td>\n",
       "      <td>2022-01-14 16:20:02</td>\n",
       "      <td>HP51173676</td>\n",
       "      <td>Penguin</td>\n",
       "      <td>2000</td>\n",
       "      <td>Inchis</td>\n",
       "      <td>2021-10-15 07:34:50</td>\n",
       "      <td>...</td>\n",
       "      <td>0</td>\n",
       "      <td>0</td>\n",
       "      <td>0</td>\n",
       "      <td>0</td>\n",
       "      <td>-2000</td>\n",
       "      <td>3</td>\n",
       "      <td>0</td>\n",
       "      <td>2239.08</td>\n",
       "      <td>0</td>\n",
       "      <td>NaN</td>\n",
       "    </tr>\n",
       "  </tbody>\n",
       "</table>\n",
       "<p>5 rows × 31 columns</p>\n",
       "</div>"
      ],
      "text/plain": [
       "          Client Unnamed: 1 Unnamed: 2             Contract  \\\n",
       "0            NaN        NaN        NaN                  NaN   \n",
       "1            CNP     Gender        Age         DataSemnarii   \n",
       "2  1900226063350          M         32  2021-10-15 18:37:54   \n",
       "3  1900226063350          M         32  2021-11-06 03:38:12   \n",
       "4  1811228048420          M         41  2021-10-15 10:43:41   \n",
       "\n",
       "            Unnamed: 4  Unnamed: 5 Unnamed: 6   Unnamed: 7 Unnamed: 8  \\\n",
       "0                  NaN         NaN        NaN          NaN        NaN   \n",
       "1           DataInchis      Number     Produs  CreditLimit      State   \n",
       "2  2021-10-16 18:11:03  DK53851057    Penguin         1900     Inchis   \n",
       "3  2021-12-10 12:29:02  TC42768422    Penguin          700     Inchis   \n",
       "4  2022-01-14 16:20:02  HP51173676    Penguin         2000     Inchis   \n",
       "\n",
       "               Scoring  ...         Unnamed: 21         Unnamed: 22  \\\n",
       "0                  NaN  ...                 NaN                 NaN   \n",
       "1          scoringdate  ...  PenguinIgnoringBNR  DolphinIgnoringBNR   \n",
       "2  2021-10-15 00:31:13  ...                   0                   0   \n",
       "3  2021-10-15 00:31:13  ...                   0                   0   \n",
       "4  2021-10-15 07:34:50  ...                   0                   0   \n",
       "\n",
       "      Unnamed: 23 Unnamed: 24  Collection     Unnamed: 26 Unnamed: 27  \\\n",
       "0             NaN         NaN         NaN             NaN         NaN   \n",
       "1  ClientCategory   Comission  Withdrawed  DpdDiffDaysMax    DpdTotal   \n",
       "2               0           0       -1900             -27           0   \n",
       "3               0           0        -700             -22           0   \n",
       "4               0           0       -2000               3           0   \n",
       "\n",
       "  Unnamed: 28  Unnamed: 29          Computed  \n",
       "0         NaN          NaN               NaN  \n",
       "1   PaidTotal  FutureTotal  IsDerrogationBNR  \n",
       "2     1907.56            0               NaN  \n",
       "3      783.58            0               NaN  \n",
       "4     2239.08            0               NaN  \n",
       "\n",
       "[5 rows x 31 columns]"
      ]
     },
     "execution_count": 2,
     "metadata": {},
     "output_type": "execute_result"
    }
   ],
   "source": [
    "data=pd.read_excel(\"data.xlsx\")\n",
    "data.head()"
   ]
  },
  {
   "cell_type": "code",
   "execution_count": 3,
   "id": "e4611c0d",
   "metadata": {},
   "outputs": [],
   "source": [
    "data.columns = data.iloc[1]"
   ]
  },
  {
   "cell_type": "code",
   "execution_count": 4,
   "id": "d82dc1ab",
   "metadata": {},
   "outputs": [],
   "source": [
    "df=data.drop([0,1], inplace=False)\n",
    "df=df.reset_index()\n",
    "df=df.drop(df.columns[0],axis=1)"
   ]
  },
  {
   "cell_type": "code",
   "execution_count": 5,
   "id": "84a52af2",
   "metadata": {},
   "outputs": [],
   "source": [
    "df=df.drop(['CNP','Number'],axis=1)"
   ]
  },
  {
   "cell_type": "code",
   "execution_count": 6,
   "id": "3d1e725d",
   "metadata": {
    "scrolled": true
   },
   "outputs": [
    {
     "name": "stdout",
     "output_type": "stream",
     "text": [
      "<class 'pandas.core.frame.DataFrame'>\n",
      "RangeIndex: 12516 entries, 0 to 12515\n",
      "Data columns (total 29 columns):\n",
      " #   Column              Non-Null Count  Dtype \n",
      "---  ------              --------------  ----- \n",
      " 0   Gender              12516 non-null  object\n",
      " 1   Age                 12516 non-null  object\n",
      " 2   DataSemnarii        12516 non-null  object\n",
      " 3   DataInchis          6827 non-null   object\n",
      " 4   Produs              12516 non-null  object\n",
      " 5   CreditLimit         12516 non-null  object\n",
      " 6   State               12516 non-null  object\n",
      " 7   scoringdate         12516 non-null  object\n",
      " 8   score               12516 non-null  object\n",
      " 9   ProbabilityOfModel  12516 non-null  object\n",
      " 10  DeclIncome          12516 non-null  object\n",
      " 11  ANAFIncome          12516 non-null  object\n",
      " 12  TotalLoanPayments   12516 non-null  object\n",
      " 13  BNR40Available      12516 non-null  object\n",
      " 14  CreditsBefore       12516 non-null  object\n",
      " 15  OfferCrab           12516 non-null  object\n",
      " 16  OfferPenguin        12516 non-null  object\n",
      " 17  OfferDolphin        12516 non-null  object\n",
      " 18  CrabIgnoringBNR     12516 non-null  object\n",
      " 19  PenguinIgnoringBNR  12516 non-null  object\n",
      " 20  DolphinIgnoringBNR  12516 non-null  object\n",
      " 21  ClientCategory      12516 non-null  object\n",
      " 22  Comission           12516 non-null  object\n",
      " 23  Withdrawed          12516 non-null  object\n",
      " 24  DpdDiffDaysMax      12516 non-null  object\n",
      " 25  DpdTotal            12516 non-null  object\n",
      " 26  PaidTotal           12516 non-null  object\n",
      " 27  FutureTotal         12516 non-null  object\n",
      " 28  IsDerrogationBNR    1111 non-null   object\n",
      "dtypes: object(29)\n",
      "memory usage: 2.8+ MB\n"
     ]
    }
   ],
   "source": [
    "df.info()"
   ]
  },
  {
   "cell_type": "markdown",
   "id": "d1247886",
   "metadata": {},
   "source": [
    "## Toate coloanele sunt object,va fi `putin` de lucru"
   ]
  },
  {
   "cell_type": "code",
   "execution_count": 7,
   "id": "6683fa33",
   "metadata": {},
   "outputs": [
    {
     "data": {
      "text/plain": [
       "1\n",
       "Gender                    0\n",
       "Age                       0\n",
       "DataSemnarii              0\n",
       "DataInchis             5689\n",
       "Produs                    0\n",
       "CreditLimit               0\n",
       "State                     0\n",
       "scoringdate               0\n",
       "score                     0\n",
       "ProbabilityOfModel        0\n",
       "DeclIncome                0\n",
       "ANAFIncome                0\n",
       "TotalLoanPayments         0\n",
       "BNR40Available            0\n",
       "CreditsBefore             0\n",
       "OfferCrab                 0\n",
       "OfferPenguin              0\n",
       "OfferDolphin              0\n",
       "CrabIgnoringBNR           0\n",
       "PenguinIgnoringBNR        0\n",
       "DolphinIgnoringBNR        0\n",
       "ClientCategory            0\n",
       "Comission                 0\n",
       "Withdrawed                0\n",
       "DpdDiffDaysMax            0\n",
       "DpdTotal                  0\n",
       "PaidTotal                 0\n",
       "FutureTotal               0\n",
       "IsDerrogationBNR      11405\n",
       "dtype: int64"
      ]
     },
     "execution_count": 7,
     "metadata": {},
     "output_type": "execute_result"
    }
   ],
   "source": [
    "df.isnull().sum()"
   ]
  },
  {
   "cell_type": "code",
   "execution_count": 8,
   "id": "470a60ca",
   "metadata": {},
   "outputs": [
    {
     "data": {
      "text/plain": [
       "0"
      ]
     },
     "execution_count": 8,
     "metadata": {},
     "output_type": "execute_result"
    }
   ],
   "source": [
    "df.duplicated().sum()"
   ]
  },
  {
   "cell_type": "code",
   "execution_count": null,
   "id": "ac7d5b6e",
   "metadata": {},
   "outputs": [],
   "source": []
  },
  {
   "cell_type": "code",
   "execution_count": 9,
   "id": "9ada5860",
   "metadata": {},
   "outputs": [],
   "source": [
    "df['DataInchis']=pd.to_datetime(df['DataInchis'])\n",
    "df['DataSemnarii']=pd.to_datetime(df['DataSemnarii'])\n",
    "df['scoringdate']=pd.to_datetime(df['scoringdate'])"
   ]
  },
  {
   "cell_type": "code",
   "execution_count": 10,
   "id": "183a85ed",
   "metadata": {},
   "outputs": [],
   "source": [
    "numeric_columns=['Age','CreditLimit','score','ProbabilityOfModel','DeclIncome','ANAFIncome','TotalLoanPayments','BNR40Available',\n",
    "                 'CreditsBefore','OfferCrab','OfferPenguin','OfferDolphin','CrabIgnoringBNR','PenguinIgnoringBNR','DolphinIgnoringBNR',\n",
    "                 'ClientCategory','Comission','Withdrawed','DpdDiffDaysMax','DpdTotal','PaidTotal','FutureTotal']"
   ]
  },
  {
   "cell_type": "code",
   "execution_count": 11,
   "id": "712fe161",
   "metadata": {},
   "outputs": [],
   "source": [
    "for column in numeric_columns:\n",
    "    df[column]=pd.to_numeric(df[column])"
   ]
  },
  {
   "cell_type": "code",
   "execution_count": 12,
   "id": "e78d6d9f",
   "metadata": {},
   "outputs": [],
   "source": [
    "dummy_df = pd.get_dummies(df['Produs'])\n",
    "df= pd.concat([df, dummy_df], axis=1)\n",
    "df=df.drop(\"Produs\",axis=1)"
   ]
  },
  {
   "cell_type": "code",
   "execution_count": 13,
   "id": "658e6f02",
   "metadata": {},
   "outputs": [],
   "source": [
    "object_values=[]\n",
    "ob_coll=df.select_dtypes(object).columns\n",
    "for column in ob_coll:\n",
    "     object_values.append(np.count_nonzero(df[column].value_counts()))"
   ]
  },
  {
   "cell_type": "code",
   "execution_count": 14,
   "id": "86aa3cac",
   "metadata": {},
   "outputs": [
    {
     "data": {
      "text/plain": [
       "<BarContainer object of 3 artists>"
      ]
     },
     "execution_count": 14,
     "metadata": {},
     "output_type": "execute_result"
    },
    {
     "data": {
      "image/png": "[encoded data removed]",
      "text/plain": [
       "<Figure size 2000x1000 with 1 Axes>"
      ]
     },
     "metadata": {},
     "output_type": "display_data"
    }
   ],
   "source": [
    "fig = plt.figure(figsize = (20,10))\n",
    "plt.barh(ob_coll,object_values, label = 'values')"
   ]
  },
  {
   "cell_type": "code",
   "execution_count": 15,
   "id": "0a3c61b0",
   "metadata": {},
   "outputs": [
    {
     "data": {
      "text/plain": [
       "True    1111\n",
       "Name: IsDerrogationBNR, dtype: int64"
      ]
     },
     "execution_count": 15,
     "metadata": {},
     "output_type": "execute_result"
    }
   ],
   "source": [
    "df['IsDerrogationBNR'].value_counts()"
   ]
  },
  {
   "cell_type": "code",
   "execution_count": 16,
   "id": "d21a9ca4",
   "metadata": {},
   "outputs": [],
   "source": [
    "df['IsDerrogationBNR']=df['IsDerrogationBNR'].fillna(False)"
   ]
  },
  {
   "cell_type": "code",
   "execution_count": 17,
   "id": "1445b52a",
   "metadata": {},
   "outputs": [
    {
     "data": {
      "text/plain": [
       "Inchis       6827\n",
       "Activ        5429\n",
       "Executare     259\n",
       "Moneysend       1\n",
       "Name: State, dtype: int64"
      ]
     },
     "execution_count": 17,
     "metadata": {},
     "output_type": "execute_result"
    }
   ],
   "source": [
    "df['State'].value_counts()"
   ]
  },
  {
   "cell_type": "code",
   "execution_count": 18,
   "id": "3557adb2",
   "metadata": {},
   "outputs": [],
   "source": [
    "df = df[df['State'] != 'Moneysend']"
   ]
  },
  {
   "cell_type": "code",
   "execution_count": 19,
   "id": "0d52f73d",
   "metadata": {},
   "outputs": [
    {
     "data": {
      "image/png": "[encoded data removed]",
      "text/plain": [
       "<Figure size 2800x2800 with 3 Axes>"
      ]
     },
     "metadata": {},
     "output_type": "display_data"
    }
   ],
   "source": [
    "fig, ax = plt.subplots(figsize =(28, 28))\n",
    "fig.patch.set_facecolor('white')\n",
    "colors = sns.color_palette(\"crest_r\", n_colors=4).as_hex()\n",
    "\n",
    "for i in (enumerate(ob_coll)):\n",
    "    plt.subplot(2, 2, i[0]+1)\n",
    "    plt.xticks(fontsize=24)\n",
    "    plt.yticks(fontsize=24)\n",
    "    \n",
    "    if df[i[1]].value_counts().count() > 2:\n",
    "        ax = sns.countplot(y = i[1], data = df, order=df[i[1]].value_counts().index, palette=colors)\n",
    "        pct = df[i[1]].value_counts(ascending=False, normalize=True).values * 100\n",
    "        ax.bar_label(container=ax.containers[0], labels=list(map('{:.2f}%'.format,pct)), padding=3, size=12, color='black')\n",
    "        ax.grid(False)\n",
    "        plt.title(i[1], fontsize=24, color='black')\n",
    "        \n",
    "\n",
    "    else:\n",
    "        _, texts, pcts = plt.pie(\n",
    "            df[i[1]].value_counts(), \n",
    "            labels=df[i[1]].value_counts().index, \n",
    "            colors= ['#00538F', '#6AADCC'],\n",
    "            autopct='%1.1f%%', \n",
    "            wedgeprops={'linewidth': 3.0, 'edgecolor': 'white'},\n",
    "            startangle=50)\n",
    "        for pcts in pcts:\n",
    "          pcts.set_color('white')\n",
    "        plt.title(i[1], fontsize=20, color='black')\n",
    "        plt.xticks(fontsize=24)\n",
    "        plt.yticks(fontsize=24)\n",
    "\n",
    "\n",
    "plt.show()  "
   ]
  },
  {
   "cell_type": "code",
   "execution_count": 21,
   "id": "434a3fc5",
   "metadata": {},
   "outputs": [],
   "source": [
    "# Select numerical variables\n",
    "numeric = df.select_dtypes(exclude=object).columns\n",
    "# fig, ax = plt.subplots(figsize =(20, 65))\n",
    "# fig.patch.set_facecolor('white')\n",
    "# colors = sns.color_palette(\"dark\", n_colors=30).as_hex()\n",
    "\n",
    "# for i in (enumerate(numeric)):\n",
    "#     plt.subplot(20, 2, i[0]+1)\n",
    "#     sns.kdeplot(x = i[1], data = df, color=colors[i[0]], fill=True)\n",
    "#     plt.grid()\n",
    "# plt.show"
   ]
  },
  {
   "cell_type": "code",
   "execution_count": 22,
   "id": "23b4ab02",
   "metadata": {},
   "outputs": [
    {
     "data": {
      "text/plain": [
       "Index(['Gender', 'Age', 'DataSemnarii', 'DataInchis', 'CreditLimit', 'State',\n",
       "       'scoringdate', 'score', 'ProbabilityOfModel', 'DeclIncome',\n",
       "       'ANAFIncome', 'TotalLoanPayments', 'BNR40Available', 'CreditsBefore',\n",
       "       'OfferCrab', 'OfferPenguin', 'OfferDolphin', 'CrabIgnoringBNR',\n",
       "       'PenguinIgnoringBNR', 'DolphinIgnoringBNR', 'ClientCategory',\n",
       "       'Comission', 'Withdrawed', 'DpdDiffDaysMax', 'DpdTotal', 'PaidTotal',\n",
       "       'FutureTotal', 'IsDerrogationBNR', 'Crab', 'Dolphin', 'Penguin'],\n",
       "      dtype='object')"
      ]
     },
     "execution_count": 22,
     "metadata": {},
     "output_type": "execute_result"
    }
   ],
   "source": [
    "df.columns"
   ]
  },
  {
   "cell_type": "markdown",
   "id": "6060ec6f",
   "metadata": {},
   "source": [
    "#### By federal law, a late payment cannot be reported to the credit reporting bureaus until it is at least 30 days past due. An overlooked bill won't hurt your credit as long as you pay before the 30-day mark, although you may have to pay a late fee"
   ]
  },
  {
   "cell_type": "markdown",
   "id": "9e6ce9f7",
   "metadata": {},
   "source": [
    "## How many days can you be late on a payment?\n",
    "\n",
    "### 30days \n",
    "\n",
    "https://www.equifax.com/personal/education/credit-cards/when-late-credit-card-payments-post/#:~:text=Generally%20speaking%2C%20the%20reporting%20date,are%2060%20days%20past%20due."
   ]
  },
  {
   "cell_type": "code",
   "execution_count": 23,
   "id": "2ce718a6",
   "metadata": {},
   "outputs": [
    {
     "data": {
      "text/html": [
       "<div>\n",
       "<style scoped>\n",
       "    .dataframe tbody tr th:only-of-type {\n",
       "        vertical-align: middle;\n",
       "    }\n",
       "\n",
       "    .dataframe tbody tr th {\n",
       "        vertical-align: top;\n",
       "    }\n",
       "\n",
       "    .dataframe thead th {\n",
       "        text-align: right;\n",
       "    }\n",
       "</style>\n",
       "<table border=\"1\" class=\"dataframe\">\n",
       "  <thead>\n",
       "    <tr style=\"text-align: right;\">\n",
       "      <th></th>\n",
       "      <th>Withdrawed</th>\n",
       "      <th>DpdDiffDaysMax</th>\n",
       "      <th>DpdTotal</th>\n",
       "      <th>PaidTotal</th>\n",
       "      <th>FutureTotal</th>\n",
       "      <th>IsDerrogationBNR</th>\n",
       "      <th>State</th>\n",
       "    </tr>\n",
       "  </thead>\n",
       "  <tbody>\n",
       "    <tr>\n",
       "      <th>8</th>\n",
       "      <td>-2500.00</td>\n",
       "      <td>280</td>\n",
       "      <td>-3020.66</td>\n",
       "      <td>135.35</td>\n",
       "      <td>0.00</td>\n",
       "      <td>False</td>\n",
       "      <td>Executare</td>\n",
       "    </tr>\n",
       "    <tr>\n",
       "      <th>10</th>\n",
       "      <td>-2100.00</td>\n",
       "      <td>64</td>\n",
       "      <td>0.00</td>\n",
       "      <td>2487.47</td>\n",
       "      <td>0.00</td>\n",
       "      <td>False</td>\n",
       "      <td>Inchis</td>\n",
       "    </tr>\n",
       "    <tr>\n",
       "      <th>19</th>\n",
       "      <td>-6000.00</td>\n",
       "      <td>273</td>\n",
       "      <td>-10028.67</td>\n",
       "      <td>671.11</td>\n",
       "      <td>0.00</td>\n",
       "      <td>False</td>\n",
       "      <td>Executare</td>\n",
       "    </tr>\n",
       "    <tr>\n",
       "      <th>21</th>\n",
       "      <td>-3000.00</td>\n",
       "      <td>303</td>\n",
       "      <td>-5406.78</td>\n",
       "      <td>10.00</td>\n",
       "      <td>0.00</td>\n",
       "      <td>False</td>\n",
       "      <td>Executare</td>\n",
       "    </tr>\n",
       "    <tr>\n",
       "      <th>28</th>\n",
       "      <td>-3652.21</td>\n",
       "      <td>211</td>\n",
       "      <td>-5337.73</td>\n",
       "      <td>1083.21</td>\n",
       "      <td>0.00</td>\n",
       "      <td>False</td>\n",
       "      <td>Executare</td>\n",
       "    </tr>\n",
       "    <tr>\n",
       "      <th>...</th>\n",
       "      <td>...</td>\n",
       "      <td>...</td>\n",
       "      <td>...</td>\n",
       "      <td>...</td>\n",
       "      <td>...</td>\n",
       "      <td>...</td>\n",
       "      <td>...</td>\n",
       "    </tr>\n",
       "    <tr>\n",
       "      <th>10227</th>\n",
       "      <td>-500.00</td>\n",
       "      <td>39</td>\n",
       "      <td>-250.24</td>\n",
       "      <td>179.03</td>\n",
       "      <td>208.06</td>\n",
       "      <td>False</td>\n",
       "      <td>Activ</td>\n",
       "    </tr>\n",
       "    <tr>\n",
       "      <th>10253</th>\n",
       "      <td>-1200.00</td>\n",
       "      <td>38</td>\n",
       "      <td>-1065.36</td>\n",
       "      <td>0.00</td>\n",
       "      <td>499.36</td>\n",
       "      <td>False</td>\n",
       "      <td>Activ</td>\n",
       "    </tr>\n",
       "    <tr>\n",
       "      <th>10316</th>\n",
       "      <td>-1000.00</td>\n",
       "      <td>35</td>\n",
       "      <td>-880.27</td>\n",
       "      <td>0.00</td>\n",
       "      <td>416.14</td>\n",
       "      <td>False</td>\n",
       "      <td>Activ</td>\n",
       "    </tr>\n",
       "    <tr>\n",
       "      <th>10393</th>\n",
       "      <td>-2000.00</td>\n",
       "      <td>31</td>\n",
       "      <td>-1740.51</td>\n",
       "      <td>0.00</td>\n",
       "      <td>832.26</td>\n",
       "      <td>False</td>\n",
       "      <td>Activ</td>\n",
       "    </tr>\n",
       "    <tr>\n",
       "      <th>10413</th>\n",
       "      <td>-2200.00</td>\n",
       "      <td>31</td>\n",
       "      <td>-1904.55</td>\n",
       "      <td>10.00</td>\n",
       "      <td>915.50</td>\n",
       "      <td>False</td>\n",
       "      <td>Activ</td>\n",
       "    </tr>\n",
       "  </tbody>\n",
       "</table>\n",
       "<p>1355 rows × 7 columns</p>\n",
       "</div>"
      ],
      "text/plain": [
       "       Withdrawed  DpdDiffDaysMax  DpdTotal  PaidTotal  FutureTotal  \\\n",
       "8        -2500.00             280  -3020.66     135.35         0.00   \n",
       "10       -2100.00              64      0.00    2487.47         0.00   \n",
       "19       -6000.00             273 -10028.67     671.11         0.00   \n",
       "21       -3000.00             303  -5406.78      10.00         0.00   \n",
       "28       -3652.21             211  -5337.73    1083.21         0.00   \n",
       "...           ...             ...       ...        ...          ...   \n",
       "10227     -500.00              39   -250.24     179.03       208.06   \n",
       "10253    -1200.00              38  -1065.36       0.00       499.36   \n",
       "10316    -1000.00              35   -880.27       0.00       416.14   \n",
       "10393    -2000.00              31  -1740.51       0.00       832.26   \n",
       "10413    -2200.00              31  -1904.55      10.00       915.50   \n",
       "\n",
       "       IsDerrogationBNR      State  \n",
       "8                 False  Executare  \n",
       "10                False     Inchis  \n",
       "19                False  Executare  \n",
       "21                False  Executare  \n",
       "28                False  Executare  \n",
       "...                 ...        ...  \n",
       "10227             False      Activ  \n",
       "10253             False      Activ  \n",
       "10316             False      Activ  \n",
       "10393             False      Activ  \n",
       "10413             False      Activ  \n",
       "\n",
       "[1355 rows x 7 columns]"
      ]
     },
     "execution_count": 23,
     "metadata": {},
     "output_type": "execute_result"
    }
   ],
   "source": [
    "df.loc[(df['DpdDiffDaysMax'] > 30)& (df['IsDerrogationBNR'] ==False), ['Withdrawed', 'DpdDiffDaysMax', 'DpdTotal', 'PaidTotal',\n",
    "       'FutureTotal', 'IsDerrogationBNR','State']]\n",
    "# y_pinguin = df_total.loc[df_total['Produs'] == 2, 'State']\n",
    "# y_delfin=df_total.loc[df_total['Produs'] == 1, 'State']"
   ]
  },
  {
   "cell_type": "markdown",
   "id": "fcf03fdd",
   "metadata": {},
   "source": [
    "### Dupa ce in notebookul precedent am incercat sa transform coloana 'State' in target unde clienti riscanti fiind persoanele ale caror credit era in executare, iar cel inchis fiind client bun, am constientizat ca am realizat o greseala,deoare sunt si persoane ale caror credit este inchis, dar au trecut limita de 90 de zile la achitare"
   ]
  },
  {
   "cell_type": "markdown",
   "id": "2ed549d4",
   "metadata": {},
   "source": [
    "### De data aceasta ca clienti riscanti, vor fi cei care au creditul in executare,sau au trecut limita maxima cu 30 de zile,(contractul sa fie minim de 60 de zile,aceasta durata se va calcula din data maxima prezenta in coloana de inchidere, minus data de semnare la credit activ"
   ]
  },
  {
   "cell_type": "code",
   "execution_count": 24,
   "id": "36291bad",
   "metadata": {
    "scrolled": true
   },
   "outputs": [],
   "source": [
    "max_datetime = df['DataInchis'].max()\n",
    "df.loc[df['DataInchis'].isnull() , 'durata_contract']=(max_datetime - df['DataSemnarii']).dt.days\n",
    "df.loc[df['DataInchis'].notnull() , 'durata_contract']=(df['DataInchis'] - df['DataSemnarii']).dt.days"
   ]
  },
  {
   "cell_type": "markdown",
   "id": "d7eb6054",
   "metadata": {},
   "source": [
    "### Am calculat durata contractului\n",
    "#### Nu mai avem nevoie de datetime-uri\n"
   ]
  },
  {
   "cell_type": "markdown",
   "id": "b3ae1c49",
   "metadata": {},
   "source": [
    "## Selectam clientii riscanti"
   ]
  },
  {
   "cell_type": "code",
   "execution_count": 25,
   "id": "b5152511",
   "metadata": {},
   "outputs": [],
   "source": [
    "df.loc[(df['IsDerrogationBNR'] ==False)&((df['durata_contract'] > 60) & (df['DpdDiffDaysMax'] >= 50)), 'target']=1    "
   ]
  },
  {
   "cell_type": "code",
   "execution_count": 26,
   "id": "27d1f261",
   "metadata": {},
   "outputs": [],
   "source": [
    "df.loc[df['DpdDiffDaysMax'] < 30,'target']=0 # clientiti buni"
   ]
  },
  {
   "cell_type": "code",
   "execution_count": 27,
   "id": "cf89f395",
   "metadata": {},
   "outputs": [
    {
     "data": {
      "text/html": [
       "<div>\n",
       "<style scoped>\n",
       "    .dataframe tbody tr th:only-of-type {\n",
       "        vertical-align: middle;\n",
       "    }\n",
       "\n",
       "    .dataframe tbody tr th {\n",
       "        vertical-align: top;\n",
       "    }\n",
       "\n",
       "    .dataframe thead th {\n",
       "        text-align: right;\n",
       "    }\n",
       "</style>\n",
       "<table border=\"1\" class=\"dataframe\">\n",
       "  <thead>\n",
       "    <tr style=\"text-align: right;\">\n",
       "      <th></th>\n",
       "      <th>Withdrawed</th>\n",
       "      <th>DpdDiffDaysMax</th>\n",
       "      <th>DpdTotal</th>\n",
       "      <th>PaidTotal</th>\n",
       "      <th>FutureTotal</th>\n",
       "      <th>IsDerrogationBNR</th>\n",
       "      <th>durata_contract</th>\n",
       "      <th>State</th>\n",
       "    </tr>\n",
       "  </thead>\n",
       "  <tbody>\n",
       "    <tr>\n",
       "      <th>171</th>\n",
       "      <td>-6939.03</td>\n",
       "      <td>37</td>\n",
       "      <td>0.00</td>\n",
       "      <td>8676.39</td>\n",
       "      <td>0.0</td>\n",
       "      <td>False</td>\n",
       "      <td>226.0</td>\n",
       "      <td>Inchis</td>\n",
       "    </tr>\n",
       "    <tr>\n",
       "      <th>174</th>\n",
       "      <td>-9254.22</td>\n",
       "      <td>30</td>\n",
       "      <td>-3560.00</td>\n",
       "      <td>7896.22</td>\n",
       "      <td>0.0</td>\n",
       "      <td>False</td>\n",
       "      <td>311.0</td>\n",
       "      <td>Activ</td>\n",
       "    </tr>\n",
       "    <tr>\n",
       "      <th>305</th>\n",
       "      <td>-5309.74</td>\n",
       "      <td>30</td>\n",
       "      <td>-3570.00</td>\n",
       "      <td>3889.94</td>\n",
       "      <td>0.0</td>\n",
       "      <td>False</td>\n",
       "      <td>312.0</td>\n",
       "      <td>Activ</td>\n",
       "    </tr>\n",
       "    <tr>\n",
       "      <th>337</th>\n",
       "      <td>-6000.00</td>\n",
       "      <td>30</td>\n",
       "      <td>-3160.71</td>\n",
       "      <td>6574.66</td>\n",
       "      <td>0.0</td>\n",
       "      <td>False</td>\n",
       "      <td>311.0</td>\n",
       "      <td>Activ</td>\n",
       "    </tr>\n",
       "    <tr>\n",
       "      <th>383</th>\n",
       "      <td>-1200.00</td>\n",
       "      <td>34</td>\n",
       "      <td>0.00</td>\n",
       "      <td>1403.83</td>\n",
       "      <td>0.0</td>\n",
       "      <td>False</td>\n",
       "      <td>122.0</td>\n",
       "      <td>Inchis</td>\n",
       "    </tr>\n",
       "    <tr>\n",
       "      <th>...</th>\n",
       "      <td>...</td>\n",
       "      <td>...</td>\n",
       "      <td>...</td>\n",
       "      <td>...</td>\n",
       "      <td>...</td>\n",
       "      <td>...</td>\n",
       "      <td>...</td>\n",
       "      <td>...</td>\n",
       "    </tr>\n",
       "    <tr>\n",
       "      <th>11044</th>\n",
       "      <td>-3300.00</td>\n",
       "      <td>30</td>\n",
       "      <td>-3932.77</td>\n",
       "      <td>189.23</td>\n",
       "      <td>0.0</td>\n",
       "      <td>False</td>\n",
       "      <td>39.0</td>\n",
       "      <td>Activ</td>\n",
       "    </tr>\n",
       "    <tr>\n",
       "      <th>11157</th>\n",
       "      <td>-5200.00</td>\n",
       "      <td>30</td>\n",
       "      <td>-4013.00</td>\n",
       "      <td>2000.00</td>\n",
       "      <td>0.0</td>\n",
       "      <td>False</td>\n",
       "      <td>39.0</td>\n",
       "      <td>Activ</td>\n",
       "    </tr>\n",
       "    <tr>\n",
       "      <th>11210</th>\n",
       "      <td>-3200.00</td>\n",
       "      <td>30</td>\n",
       "      <td>-4003.00</td>\n",
       "      <td>10.00</td>\n",
       "      <td>0.0</td>\n",
       "      <td>False</td>\n",
       "      <td>37.0</td>\n",
       "      <td>Activ</td>\n",
       "    </tr>\n",
       "    <tr>\n",
       "      <th>11263</th>\n",
       "      <td>-2200.00</td>\n",
       "      <td>30</td>\n",
       "      <td>-2836.00</td>\n",
       "      <td>0.00</td>\n",
       "      <td>0.0</td>\n",
       "      <td>False</td>\n",
       "      <td>35.0</td>\n",
       "      <td>Activ</td>\n",
       "    </tr>\n",
       "    <tr>\n",
       "      <th>11306</th>\n",
       "      <td>-3200.00</td>\n",
       "      <td>30</td>\n",
       "      <td>-3957.00</td>\n",
       "      <td>20.00</td>\n",
       "      <td>0.0</td>\n",
       "      <td>False</td>\n",
       "      <td>33.0</td>\n",
       "      <td>Activ</td>\n",
       "    </tr>\n",
       "  </tbody>\n",
       "</table>\n",
       "<p>405 rows × 8 columns</p>\n",
       "</div>"
      ],
      "text/plain": [
       "       Withdrawed  DpdDiffDaysMax  DpdTotal  PaidTotal  FutureTotal  \\\n",
       "171      -6939.03              37      0.00    8676.39          0.0   \n",
       "174      -9254.22              30  -3560.00    7896.22          0.0   \n",
       "305      -5309.74              30  -3570.00    3889.94          0.0   \n",
       "337      -6000.00              30  -3160.71    6574.66          0.0   \n",
       "383      -1200.00              34      0.00    1403.83          0.0   \n",
       "...           ...             ...       ...        ...          ...   \n",
       "11044    -3300.00              30  -3932.77     189.23          0.0   \n",
       "11157    -5200.00              30  -4013.00    2000.00          0.0   \n",
       "11210    -3200.00              30  -4003.00      10.00          0.0   \n",
       "11263    -2200.00              30  -2836.00       0.00          0.0   \n",
       "11306    -3200.00              30  -3957.00      20.00          0.0   \n",
       "\n",
       "       IsDerrogationBNR  durata_contract   State  \n",
       "171               False            226.0  Inchis  \n",
       "174               False            311.0   Activ  \n",
       "305               False            312.0   Activ  \n",
       "337               False            311.0   Activ  \n",
       "383               False            122.0  Inchis  \n",
       "...                 ...              ...     ...  \n",
       "11044             False             39.0   Activ  \n",
       "11157             False             39.0   Activ  \n",
       "11210             False             37.0   Activ  \n",
       "11263             False             35.0   Activ  \n",
       "11306             False             33.0   Activ  \n",
       "\n",
       "[405 rows x 8 columns]"
      ]
     },
     "execution_count": 27,
     "metadata": {},
     "output_type": "execute_result"
    }
   ],
   "source": [
    "df.loc[df['target'].isnull(),['Withdrawed', 'DpdDiffDaysMax', 'DpdTotal', 'PaidTotal',\n",
    "       'FutureTotal', 'IsDerrogationBNR','durata_contract','State']]"
   ]
  },
  {
   "cell_type": "markdown",
   "id": "18022eda",
   "metadata": {},
   "source": [
    "### Voi face drop la aceste randuri,deoarece nu reprezinta o informatie care se atribuie concret la client bun sau rau,deoarece sunt unele persoane car au 39 de zile contractul,dar dar intarziere 30 de zile,inseamna ca trebuie rambunsat dupa 9 zile,dar cel mai mic credit,crab,este de 30 de zile, de asta am cautat anterioe,daca contractul e mai lung de 60 de zile,adica 30 de zile pana la data de plata +30 de zile intarziere"
   ]
  },
  {
   "cell_type": "markdown",
   "id": "442fa412",
   "metadata": {},
   "source": [
    "#### Facem drop la coloanele datetime,deoarece am extras deja informatia necesara din ele"
   ]
  },
  {
   "cell_type": "code",
   "execution_count": 28,
   "id": "4a4c4241",
   "metadata": {},
   "outputs": [],
   "source": [
    "df=df.drop(['DataInchis','DataSemnarii','scoringdate'],axis=1)"
   ]
  },
  {
   "cell_type": "code",
   "execution_count": 29,
   "id": "8d13d29e",
   "metadata": {},
   "outputs": [
    {
     "data": {
      "text/plain": [
       "Gender                  0\n",
       "Age                     0\n",
       "CreditLimit             0\n",
       "State                   0\n",
       "score                   0\n",
       "ProbabilityOfModel      0\n",
       "DeclIncome              0\n",
       "ANAFIncome              0\n",
       "TotalLoanPayments       0\n",
       "BNR40Available          0\n",
       "CreditsBefore           0\n",
       "OfferCrab               0\n",
       "OfferPenguin            0\n",
       "OfferDolphin            0\n",
       "CrabIgnoringBNR         0\n",
       "PenguinIgnoringBNR      0\n",
       "DolphinIgnoringBNR      0\n",
       "ClientCategory          0\n",
       "Comission               0\n",
       "Withdrawed              0\n",
       "DpdDiffDaysMax          0\n",
       "DpdTotal                0\n",
       "PaidTotal               0\n",
       "FutureTotal             0\n",
       "IsDerrogationBNR        0\n",
       "Crab                    0\n",
       "Dolphin                 0\n",
       "Penguin                 0\n",
       "durata_contract         0\n",
       "target                405\n",
       "dtype: int64"
      ]
     },
     "execution_count": 29,
     "metadata": {},
     "output_type": "execute_result"
    }
   ],
   "source": [
    "df.isnull().sum()"
   ]
  },
  {
   "cell_type": "code",
   "execution_count": 30,
   "id": "d0f2a784",
   "metadata": {},
   "outputs": [],
   "source": [
    "df=df.dropna()"
   ]
  },
  {
   "cell_type": "code",
   "execution_count": 31,
   "id": "77e0438e",
   "metadata": {},
   "outputs": [
    {
     "data": {
      "text/plain": [
       "False    11118\n",
       "True       992\n",
       "Name: IsDerrogationBNR, dtype: int64"
      ]
     },
     "execution_count": 31,
     "metadata": {},
     "output_type": "execute_result"
    }
   ],
   "source": [
    "df['IsDerrogationBNR'].value_counts()"
   ]
  },
  {
   "cell_type": "markdown",
   "id": "c43ce697",
   "metadata": {},
   "source": [
    "### Facem drop la aceasta coloana,deoarece la aplicarea pentru credit noi nu stim daca va urma derogare,iar acest lucru poate inrautati antrenarea"
   ]
  },
  {
   "cell_type": "code",
   "execution_count": null,
   "id": "f8481840",
   "metadata": {},
   "outputs": [],
   "source": [
    "df=df.drop('IsDerrogationBNR',axis=1)"
   ]
  },
  {
   "cell_type": "code",
   "execution_count": null,
   "id": "849c3f16",
   "metadata": {},
   "outputs": [],
   "source": [
    "df['target'].value_count"
   ]
  },
  {
   "cell_type": "code",
   "execution_count": null,
   "id": "e0640e9c",
   "metadata": {},
   "outputs": [],
   "source": [
    "df.info()"
   ]
  },
  {
   "cell_type": "markdown",
   "id": "33704fa9",
   "metadata": {},
   "source": [
    "### Encodam datele categoriale"
   ]
  },
  {
   "cell_type": "code",
   "execution_count": null,
   "id": "a6c0b8c0",
   "metadata": {},
   "outputs": [],
   "source": [
    "object_values=[]\n",
    "ob_coll=df.select_dtypes(object).columns\n",
    "for column in ob_coll:\n",
    "     object_values.append(np.count_nonzero(df[column].value_counts()))"
   ]
  },
  {
   "cell_type": "code",
   "execution_count": null,
   "id": "86d45876",
   "metadata": {},
   "outputs": [],
   "source": [
    "lbl_enc=LabelEncoder()\n",
    "df[ob_coll]=df[ob_coll].astype(str).apply(lbl_enc.fit_transform)"
   ]
  },
  {
   "cell_type": "code",
   "execution_count": null,
   "id": "626ae0df",
   "metadata": {},
   "outputs": [],
   "source": [
    "plt.figure(figsize=(25,25))\n",
    "sns.heatmap(df.corr(),annot=True,cmap='coolwarm')"
   ]
  },
  {
   "cell_type": "markdown",
   "id": "ff18f851",
   "metadata": {},
   "source": [
    "### Deoarece clientii sunt clasificati in baza intarzierii,vom face drop la coloanele de DPD"
   ]
  },
  {
   "cell_type": "code",
   "execution_count": null,
   "id": "7b880634",
   "metadata": {},
   "outputs": [],
   "source": [
    "df=df.drop(['DpdDiffDaysMax','DpdTotal'],axis=1)"
   ]
  },
  {
   "cell_type": "code",
   "execution_count": null,
   "id": "fa6748df",
   "metadata": {},
   "outputs": [],
   "source": [
    "work_df=df"
   ]
  },
  {
   "cell_type": "code",
   "execution_count": null,
   "id": "09316160",
   "metadata": {},
   "outputs": [],
   "source": [
    "print(f'Dolphin risk statistic: {round((1016/52.35),2)}\\n'\n",
    "     f'Peguin risk statistic: {round((427/48.98),2)}\\n'\n",
    "     f'Crab risk statistic: {round((52/7.19),2)}')"
   ]
  },
  {
   "cell_type": "markdown",
   "id": "9be40e26",
   "metadata": {},
   "source": [
    "### Dupa statistica 19% din clientii delfin,au o intarziere riscanta"
   ]
  },
  {
   "cell_type": "code",
   "execution_count": null,
   "id": "6c53a7de",
   "metadata": {},
   "outputs": [],
   "source": [
    "plt.figure(figsize=(10,10))\n",
    "#sns.kdeplot(df['durata_contract'], shade=True, label='Distribution durata and target')\n",
    "#sns.kdeplot(df['target'], shade=True, label='Distribution durata and target')\n",
    "sns.distplot(df['durata_contract'][df['target']==0],color='g', label = 'good')\n",
    "sns.distplot(df['durata_contract'][df['target']==1],color='r', label = 'risky')\n",
    "#sns.kdeplot(df['target'], shade=True, label='Distribution durata and target')\n",
    "plt.xlabel('Value')\n",
    "plt.ylabel('Frequency')\n",
    "plt.title('Distribution Comparison')\n",
    "plt.legend()\n",
    "\n",
    "plt.show()"
   ]
  },
  {
   "cell_type": "markdown",
   "id": "d17e818e",
   "metadata": {},
   "source": [
    "### Observam ca cu cat durata contractului e mai mare cu atat si numarul de clienti riscanti creste"
   ]
  },
  {
   "cell_type": "code",
   "execution_count": null,
   "id": "2b359646",
   "metadata": {},
   "outputs": [],
   "source": [
    "df.columns"
   ]
  },
  {
   "cell_type": "code",
   "execution_count": null,
   "id": "e2b39432",
   "metadata": {},
   "outputs": [],
   "source": [
    "df_crab=df.loc[df['Crab']==1]\n",
    "df_crab=df_crab.drop(['Dolphin','Penguin','Crab'],axis=1)\n",
    "df_delfin=df.loc[df['Dolphin']==1]\n",
    "df_delfin=df_delfin.drop(['Dolphin','Penguin','Crab'],axis=1)\n",
    "df_pinguin=df.loc[df['Penguin']==1]\n",
    "df_pinguin=df_pinguin.drop(['Dolphin','Penguin','Crab'],axis=1)"
   ]
  },
  {
   "cell_type": "code",
   "execution_count": null,
   "id": "a8b38868",
   "metadata": {},
   "outputs": [],
   "source": [
    "fig = plt.figure(figsize = (20, 25))\n",
    "j = 0\n",
    "\n",
    "for column in df:\n",
    "    plt.subplot(8, 4, j+1)\n",
    "    j += 1\n",
    "    sns.distplot(df[column][df['target']==0],color='g', label = 'good')\n",
    "    sns.distplot(df[column][df['target']==1],color='r', label = 'risky')\n",
    "    plt.legend(loc='best')\n",
    "fig.tight_layout()\n",
    "fig.subplots_adjust(top=0.95)\n",
    "plt.show()\n"
   ]
  },
  {
   "cell_type": "markdown",
   "id": "fcf5ef9b",
   "metadata": {},
   "source": [
    "## Analizam crabul"
   ]
  },
  {
   "cell_type": "code",
   "execution_count": null,
   "id": "28c2bd37",
   "metadata": {},
   "outputs": [],
   "source": [
    "fig = plt.figure(figsize = (20, 25))\n",
    "j = 0\n",
    "\n",
    "for column in df_crab:\n",
    "    plt.subplot(8, 4, j+1)\n",
    "    j += 1\n",
    "    sns.distplot(df_crab[column][df_crab['target']==0],color='g', label = 'good')\n",
    "    sns.distplot(df_crab[column][df_crab['target']==1],color='r', label = 'risky')\n",
    "    plt.legend(loc='best')\n",
    "fig.tight_layout()\n",
    "fig.subplots_adjust(top=0.95)\n",
    "plt.show()"
   ]
  },
  {
   "cell_type": "markdown",
   "id": "06af39a6",
   "metadata": {},
   "source": [
    "### Din informatiile prezente la aplicarea pentru credit, putem observa ca persoanele cu un venit lunar mai mare de 5000, nu intalnesc dificultati cu achitarea,sau scor mai mare de 600"
   ]
  },
  {
   "cell_type": "code",
   "execution_count": null,
   "id": "a4f5da4a",
   "metadata": {},
   "outputs": [],
   "source": [
    "fig = plt.figure(figsize = (20, 25))\n",
    "j = 0\n",
    "\n",
    "for column in df_delfin:\n",
    "    plt.subplot(8, 4, j+1)\n",
    "    j += 1\n",
    "    sns.distplot(df_delfin[column][df_delfin['target']==0],color='g', label = 'good')\n",
    "    sns.distplot(df_delfin[column][df_delfin['target']==1],color='r', label = 'risky')\n",
    "    plt.legend(loc='best')\n",
    "fig.tight_layout()\n",
    "fig.subplots_adjust(top=0.95)\n",
    "plt.show()"
   ]
  },
  {
   "cell_type": "code",
   "execution_count": null,
   "id": "424b48da",
   "metadata": {},
   "outputs": [],
   "source": [
    "fig = plt.figure(figsize = (20, 25))\n",
    "j = 0\n",
    "\n",
    "for column in df_pinguin:\n",
    "    plt.subplot(8, 4, j+1)\n",
    "    j += 1\n",
    "    sns.distplot(df_pinguin[column][df_pinguin['target']==0],color='g', label = 'good')\n",
    "    sns.distplot(df_pinguin[column][df_pinguin['target']==1],color='r', label = 'risky')\n",
    "    plt.legend(loc='best')\n",
    "fig.tight_layout()\n",
    "fig.subplots_adjust(top=0.95)\n",
    "plt.show()"
   ]
  },
  {
   "cell_type": "markdown",
   "id": "e2aed782",
   "metadata": {},
   "source": [
    "### Cel mai mult poate separa clientii,durata contractului,asa ca deja analizam ea in comparatie cu celelalte coloane"
   ]
  },
  {
   "cell_type": "code",
   "execution_count": null,
   "id": "dc82089e",
   "metadata": {},
   "outputs": [],
   "source": [
    "df_crab.columns"
   ]
  },
  {
   "cell_type": "code",
   "execution_count": null,
   "id": "3eababf6",
   "metadata": {},
   "outputs": [],
   "source": [
    "y_crab=df_crab['target']\n",
    "X_crab=df_crab.drop(['State','CreditLimit','ProbabilityOfModel', 'OfferPenguin',\n",
    "       'OfferDolphin','PenguinIgnoringBNR','DolphinIgnoringBNR', 'ClientCategory', 'Comission', 'Withdrawed',\n",
    "       'PaidTotal', 'FutureTotal', 'durata_contract', 'target','DeclIncome'],axis=1)"
   ]
  },
  {
   "cell_type": "code",
   "execution_count": null,
   "id": "16831635",
   "metadata": {},
   "outputs": [],
   "source": [
    "y_delfin=df_delfin['target']\n",
    "X_delfin=df_delfin.drop(['State','CreditLimit','ProbabilityOfModel', 'OfferPenguin',\n",
    "       'OfferDolphin','PenguinIgnoringBNR','DolphinIgnoringBNR', 'ClientCategory', 'Comission', 'Withdrawed',\n",
    "       'PaidTotal', 'FutureTotal', 'durata_contract', 'target','DeclIncome'],axis=1)"
   ]
  },
  {
   "cell_type": "code",
   "execution_count": null,
   "id": "8672cdda",
   "metadata": {},
   "outputs": [],
   "source": [
    "y_pinguin=df_pinguin['target']\n",
    "X_pinguin=df_pinguin.drop(['State','CreditLimit','ProbabilityOfModel', 'OfferPenguin',\n",
    "       'OfferDolphin','PenguinIgnoringBNR','DolphinIgnoringBNR', 'ClientCategory', 'Comission', 'Withdrawed',\n",
    "       'PaidTotal', 'FutureTotal', 'durata_contract', 'target','DeclIncome'],axis=1)"
   ]
  },
  {
   "cell_type": "code",
   "execution_count": null,
   "id": "f25a5f98",
   "metadata": {},
   "outputs": [],
   "source": [
    "from sklearn.model_selection import train_test_split\n",
    "X_train,X_test,y_train,y_test=train_test_split(X_crab,y_crab,test_size=0.2,random_state=42)"
   ]
  },
  {
   "cell_type": "code",
   "execution_count": null,
   "id": "5b936455",
   "metadata": {},
   "outputs": [],
   "source": [
    "from sklearn.linear_model import LogisticRegression\n",
    "from sklearn.metrics import ConfusionMatrixDisplay,accuracy_score\n",
    "from sklearn.metrics import classification_report\n",
    "lr_model = LogisticRegression(random_state=42,class_weight='balanced')\n",
    "lr_model.fit(X_train,y_train)\n",
    "y_pred = lr_model.predict(X_test)\n",
    "ConfusionMatrixDisplay.from_predictions(y_test,y_pred)\n",
    "print(\"\\n\"+ classification_report(y_test, y_pred))"
   ]
  },
  {
   "cell_type": "code",
   "execution_count": null,
   "id": "dbc7799c",
   "metadata": {},
   "outputs": [],
   "source": [
    "from sklearn.ensemble import RandomForestClassifier\n",
    "rf_model=RandomForestClassifier(random_state=42,class_weight='balanced')\n",
    "rf_model.fit(X_train,y_train)\n",
    "y_pred = rf_model.predict(X_test)\n",
    "ConfusionMatrixDisplay.from_predictions(y_test,y_pred)\n",
    "print(\"\\n\"+ classification_report(y_test, y_pred))"
   ]
  },
  {
   "cell_type": "code",
   "execution_count": null,
   "id": "5daadbdc",
   "metadata": {},
   "outputs": [],
   "source": [
    "X_train,X_test,y_train,y_test=train_test_split(X_pinguin,y_pinguin,test_size=0.2,random_state=42)\n",
    "lr_model.fit(X_train,y_train)\n",
    "y_pred = lr_model.predict(X_test)\n",
    "ConfusionMatrixDisplay.from_predictions(y_test,y_pred)\n",
    "print(\"\\n\"+ classification_report(y_test, y_pred))"
   ]
  },
  {
   "cell_type": "code",
   "execution_count": null,
   "id": "d06f139f",
   "metadata": {},
   "outputs": [],
   "source": [
    "rf_model.fit(X_train,y_train)\n",
    "y_pred = rf_model.predict(X_test)\n",
    "ConfusionMatrixDisplay.from_predictions(y_test,y_pred)\n",
    "print(\"\\n\"+ classification_report(y_test, y_pred))"
   ]
  },
  {
   "cell_type": "code",
   "execution_count": null,
   "id": "c4cca89e",
   "metadata": {},
   "outputs": [],
   "source": [
    "X_train,X_test,y_train,y_test=train_test_split(X_delfin,y_delfin,test_size=0.2,random_state=42)\n",
    "rf_model.fit(X_train,y_train)\n",
    "y_pred = rf_model.predict(X_test)\n",
    "ConfusionMatrixDisplay.from_predictions(y_test,y_pred)\n",
    "print(\"\\n\"+ classification_report(y_test, y_pred))"
   ]
  },
  {
   "cell_type": "code",
   "execution_count": null,
   "id": "3cf1fed5",
   "metadata": {},
   "outputs": [],
   "source": [
    "lr_model.fit(X_train,y_train)\n",
    "y_pred = lr_model.predict(X_test)\n",
    "ConfusionMatrixDisplay.from_predictions(y_test,y_pred)\n",
    "print(\"\\n\"+ classification_report(y_test, y_pred))"
   ]
  },
  {
   "cell_type": "code",
   "execution_count": null,
   "id": "74078d0e",
   "metadata": {},
   "outputs": [],
   "source": [
    "df_crab_total=pd.concat([X_crab,y_crab],axis=1)"
   ]
  },
  {
   "cell_type": "code",
   "execution_count": null,
   "id": "3158ec42",
   "metadata": {},
   "outputs": [],
   "source": [
    "import lightgbm as lgb\n",
    "lgb_classifier = lgb.LGBMClassifier()\n",
    "lgb_classifier.fit(X_train, y_train)\n",
    "\n",
    "y_pred = lgb_classifier.predict(X_test)\n",
    "\n",
    "accuracy = accuracy_score(y_test, y_pred)\n",
    "ConfusionMatrixDisplay.from_predictions(y_test,y_pred)\n",
    "print(\"\\n\"+ classification_report(y_test, y_pred))"
   ]
  },
  {
   "cell_type": "code",
   "execution_count": null,
   "id": "9d74adc5",
   "metadata": {},
   "outputs": [],
   "source": [
    "from sklearn.model_selection import GridSearchCV\n",
    "param_grid = {\n",
    "    'learning_rate': [0.1, 0.01],\n",
    "    'max_depth': [3, 5, 7],\n",
    "    'num_leaves': [31, 63, 127],\n",
    "    'min_child_samples': [10, 20, 30]\n",
    "}\n",
    "\n",
    "# Perform grid search with cross-validation\n",
    "grid_search = GridSearchCV(lgb_classifier, param_grid, cv=5, scoring='roc_auc')\n",
    "grid_search.fit(X_train, y_train)\n",
    "\n",
    "# Print the best parameters and the best score\n",
    "print(\"Best Parameters:\", grid_search.best_params_)\n",
    "print(\"Best Score (ROC AUC):\", grid_search.best_score_)"
   ]
  },
  {
   "cell_type": "code",
   "execution_count": null,
   "id": "4a5640e8",
   "metadata": {},
   "outputs": [],
   "source": [
    "lgb_classifier = lgb.LGBMClassifier(learning_rate=0.1,\n",
    " max_depth= 3,\n",
    " min_child_samples=20,\n",
    " num_leaves= 31)\n",
    "lgb_classifier.fit(X_train, y_train)\n",
    "\n",
    "y_pred = lgb_classifier.predict(X_test)\n",
    "\n",
    "accuracy = accuracy_score(y_test, y_pred)\n",
    "ConfusionMatrixDisplay.from_predictions(y_test,y_pred)\n",
    "print(\"\\n\"+ classification_report(y_test, y_pred))"
   ]
  },
  {
   "cell_type": "code",
   "execution_count": null,
   "id": "917b990a",
   "metadata": {},
   "outputs": [],
   "source": [
    "#X_crab=X_crab.drop(['TotalLoanPayments','OfferCrab','CrabIgnoringBNR'],axis=1)\n",
    "X_train,X_test,y_train,y_test=train_test_split(X_crab,y_crab,test_size=0.2,random_state=42)"
   ]
  },
  {
   "cell_type": "code",
   "execution_count": null,
   "id": "fb7a32e7",
   "metadata": {},
   "outputs": [],
   "source": [
    "lgb_classifier = lgb.LGBMClassifier()\n",
    "lgb_classifier.fit(X_train, y_train)\n",
    "lr_model.fit(X_train,y_train)\n",
    "y_pred = lr_model.predict(X_test)\n",
    "\n",
    "accuracy = accuracy_score(y_test, y_pred)\n",
    "ConfusionMatrixDisplay.from_predictions(y_test,y_pred)\n",
    "print(\"\\n\"+ classification_report(y_test, y_pred))"
   ]
  },
  {
   "cell_type": "code",
   "execution_count": null,
   "id": "f852ee1e",
   "metadata": {},
   "outputs": [],
   "source": [
    "df_crab=pd.concat([X_crab,y_crab],axis=1)\n",
    "plt.figure(figsize=(25,25))\n",
    "sns.heatmap(df_crab.corr(),annot=True,cmap='coolwarm')"
   ]
  },
  {
   "cell_type": "code",
   "execution_count": null,
   "id": "d04a7e35",
   "metadata": {},
   "outputs": [],
   "source": [
    "from sklearn.decomposition import PCA\n",
    "\n",
    "pca = PCA(n_components=0.95)\n",
    "\n",
    "# Fit the PCA model to the data\n",
    "pca.fit(X_crab)\n",
    "# Transform the data to the lower-dimensional space\n",
    "X_pca = pca.transform(X_crab)\n",
    "\n",
    "# Print the explained variance ratio\n",
    "print(\"Explained Variance Ratio:\", pca.explained_variance_ratio_)\n"
   ]
  },
  {
   "cell_type": "code",
   "execution_count": null,
   "id": "58d78483",
   "metadata": {},
   "outputs": [],
   "source": [
    "X_train,X_test,y_train,y_test=train_test_split(X_crab,y_crab,test_size=0.2,random_state=42)\n",
    "lr_model.fit(X_train,y_train)\n",
    "y_pred = lr_model.predict(X_test)\n",
    "\n",
    "accuracy = accuracy_score(y_test, y_pred)\n",
    "ConfusionMatrixDisplay.from_predictions(y_test,y_pred)\n",
    "print(\"\\n\"+ classification_report(y_test, y_pred))"
   ]
  },
  {
   "cell_type": "code",
   "execution_count": null,
   "id": "a88ca8a7",
   "metadata": {},
   "outputs": [],
   "source": [
    "from imblearn.over_sampling import SMOTE\n",
    "smote = SMOTE()\n",
    "X_resampled, y_resampled = smote.fit_resample(X_pca, y_crab)\n",
    "# Check the class distribution after oversampling\n",
    "print(\"Original Class Distribution:\")\n",
    "print(y_crab.value_counts())\n",
    "\n",
    "print(\"Class Distribution after SMOTE:\")\n",
    "print(y_resampled.value_counts())"
   ]
  },
  {
   "cell_type": "code",
   "execution_count": null,
   "id": "860bd770",
   "metadata": {},
   "outputs": [],
   "source": [
    "X_train,X_test,y_train,y_test=train_test_split(X_resampled,y_resampled,test_size=0.2,random_state=42)\n",
    "lr_model.fit(X_train,y_train)\n",
    "y_pred = lr_model.predict(X_test)\n",
    "\n",
    "accuracy = accuracy_score(y_test, y_pred)\n",
    "ConfusionMatrixDisplay.from_predictions(y_test,y_pred)\n",
    "print(\"\\n\"+ classification_report(y_test, y_pred))"
   ]
  },
  {
   "cell_type": "code",
   "execution_count": null,
   "id": "ee9c83bb",
   "metadata": {},
   "outputs": [],
   "source": [
    "lgb_classifier.fit(X_train,y_train)\n",
    "y_pred = lgb_classifier.predict(X_test)\n",
    "\n",
    "accuracy = accuracy_score(y_test, y_pred)\n",
    "ConfusionMatrixDisplay.from_predictions(y_test,y_pred)\n",
    "print(\"\\n\"+ classification_report(y_test, y_pred))"
   ]
  },
  {
   "cell_type": "code",
   "execution_count": null,
   "id": "b3867769",
   "metadata": {},
   "outputs": [],
   "source": []
  }
 ],
 "metadata": {
  "kernelspec": {
   "display_name": "Python 3 (ipykernel)",
   "language": "python",
   "name": "python3"
  },
  "language_info": {
   "codemirror_mode": {
    "name": "ipython",
    "version": 3
   },
   "file_extension": ".py",
   "mimetype": "text/x-python",
   "name": "python",
   "nbconvert_exporter": "python",
   "pygments_lexer": "ipython3",
   "version": "3.9.13"
  }
 },
 "nbformat": 4,
 "nbformat_minor": 5
}
